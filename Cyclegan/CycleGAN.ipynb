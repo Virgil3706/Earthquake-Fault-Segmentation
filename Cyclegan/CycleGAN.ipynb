{
 "nbformat": 4,
 "nbformat_minor": 0,
 "metadata": {
  "colab": {
   "name": "Untitled0_earthquake0.ipynb",
   "provenance": [],
   "collapsed_sections": [],
   "mount_file_id": "1FpX_5NrwHhzwGI1cRJdxgzHccirzAagL",
   "authorship_tag": "ABX9TyOL9Jcdy8nfnHS8UntXJeMA"
  },
  "kernelspec": {
   "name": "python3",
   "display_name": "Python 3"
  },
  "accelerator": "GPU"
 },
 "cells": [
  {
   "cell_type": "code",
   "execution_count": null,
   "outputs": [],
   "source": [],
   "metadata": {
    "collapsed": false,
    "pycharm": {
     "name": "#%%\n"
    }
   }
  },
  {
   "cell_type": "markdown",
   "source": [
    "workflow:\n",
    "1.style transfer   style A to style B\n",
    "2.use test to convert style A to style B return png file \n",
    "3.load png files and transfer them to npy file\n",
    "4.load npy file, training \n",
    "5.save_picture, examing the result\n",
    "6.apply the model in the dataset B, save_picture, get the result, compare."
   ],
   "metadata": {
    "collapsed": false
   }
  },
  {
   "cell_type": "code",
   "execution_count": null,
   "outputs": [],
   "source": [
    "cd /content/drive/My Drive/Earthquake7\n",
    "\n"
   ],
   "metadata": {
    "collapsed": false,
    "pycharm": {
     "name": "#%%\n"
    }
   }
  },
  {
   "cell_type": "markdown",
   "source": [
    "preprocessing: transfer npy to png\n"
   ],
   "metadata": {
    "collapsed": false
   }
  },
  {
   "cell_type": "markdown",
   "source": [
    "1.dataset A seismic picture"
   ],
   "metadata": {
    "collapsed": false
   }
  },
  {
   "cell_type": "code",
   "execution_count": null,
   "outputs": [],
   "source": [
    "from functions import *\n",
    "# path = '/content/drive/My Drive/datasets2/subGSBxl_t_il.npy'\n",
    "path=\"/content/drive/My Drive/seis_sub_350IL_500t_1200XL.npy\"\n",
    "import numpy as np\n",
    "data =np.load(path)\n",
    "length=data.shape[0]\n",
    "save_path= '/content/drive/My Drive/style_data/RGBA_datasetA'\n",
    "import os\n",
    "if not os.path.exists(save_path):\n",
    "  os.makedirs(save_path)\n",
    "  print(save_path)\n",
    "import matplotlib.image as mp\n",
    "from PIL import Image\n",
    "\n",
    "for index in range(0,350,1):\n",
    "    data1=data[index]\n",
    "    # column = data1[:,-1]\n",
    "    # data1=np.column_stack((data1,column))\n",
    "    # data1=np.expand_dims(data1,axis=0)\n",
    "    print(data1.shape)\n",
    "    mp.imsave('{}/{}.png'.format(save_path, index),data1)\n",
    "    # np.save(os.path.join(save_path, \"{}\".format(index)), data1) "
   ],
   "metadata": {
    "collapsed": false,
    "pycharm": {
     "name": "#%%\n"
    }
   }
  },
  {
   "cell_type": "markdown",
   "source": [
    "2.datasetB seismic picture\n"
   ],
   "metadata": {
    "collapsed": false
   }
  },
  {
   "cell_type": "code",
   "execution_count": null,
   "outputs": [],
   "source": [
    "from functions import *\n",
    "path = '/content/drive/My Drive/datasets2/subGSBxl_t_il.npy'\n",
    "# path=\"/content/drive/My Drive/seis_sub_350IL_500t_1200XL.npy\"\n",
    "import numpy as np\n",
    "data =np.load(path)\n",
    "length=data.shape[0]\n",
    "save_path= '/content/drive/My Drive/style_data/RGBA_datasetB'\n",
    "\n",
    "import os\n",
    "if not os.path.exists(save_path):\n",
    "  os.makedirs(save_path)\n",
    "  print(save_path)\n",
    "import matplotlib.image as mp\n",
    "\n",
    "for index in range(188,200,1):\n",
    "    data1=data[index]\n",
    "    column = data1[:,-1]\n",
    "    data1=np.column_stack((data1,column))\n",
    "\n",
    "    # data1=np.expand_dims(data1,axis=0)\n",
    "    print(data1.shape)\n",
    "\n",
    "    # print(img.shape)\n",
    "    # img.save('{}/{}.png'.format(save_path, index))\n",
    "    mp.imsave('{}/{}.png'.format(save_path, index),data1)\n"
   ],
   "metadata": {
    "collapsed": false,
    "pycharm": {
     "name": "#%%\n"
    }
   }
  },
  {
   "cell_type": "markdown",
   "source": [
    "transfer png to gray_png   x4"
   ],
   "metadata": {
    "collapsed": false
   }
  },
  {
   "cell_type": "code",
   "execution_count": null,
   "outputs": [],
   "source": [
    "from functions import *\n",
    "\n",
    "import numpy as np\n",
    "\n",
    "save_path= '/content/drive/My Drive/style_data2/trainA'\n",
    "load_path='/content/drive/My Drive/style_data/RGBA_datasetA'\n",
    "# save_path= '/content/drive/My Drive/cycle/pytorch-CycleGAN-and-pix2pix/datasets/430/testA'\n",
    "# load_path='/content/drive/My Drive/cycle/pytorch-CycleGAN-and-pix2pix/datasets/earthquake429/testA'\n",
    "import os\n",
    "if not os.path.exists(load_path):\n",
    "  os.makedirs(load_path)\n",
    "  print(load_path)\n",
    "import matplotlib.image as mp\n",
    "from PIL import Image\n",
    "# 0-15 100-115 200-215 300-315\n",
    "# for index in range(0,15,1):\n",
    "\n",
    "#     # data1=np.expand_dims(data1,axis=0)\n",
    "#     img=Image.open('{}/{}.png'.format(load_path, index))\n",
    "#     img = img.convert('L')\n",
    "#     # print(img.shape)\n",
    "#     img.save('{}/{}.png'.format(save_path, index))\n",
    "  \n",
    "# for index in range(100,115,1):\n",
    "\n",
    "#     # data1=np.expand_dims(data1,axis=0)\n",
    "#     img=Image.open('{}/{}.png'.format(load_path, index))\n",
    "#     img = img.convert('L')\n",
    "#     # print(img.shape)\n",
    "#     img.save('{}/{}.png'.format(save_path, index))\n",
    "  \n",
    "for index in range(222,222+64,1):\n",
    "\n",
    "    # data1=np.expand_dims(data1,axis=0)\n",
    "    img=Image.open('{}/{}.png'.format(load_path, index))\n",
    "    img = img.convert('L')\n",
    "    # print(img.shape)\n",
    "    img.save('{}/{}.png'.format(save_path, index))\n",
    "  \n",
    "# for index in range(300,315,1):\n",
    "\n",
    "#     # data1=np.expand_dims(data1,axis=0)\n",
    "#     img=Image.open('{}/{}.png'.format(load_path, index))\n",
    "#     img = img.convert('L')\n",
    "#     # print(img.shape)\n",
    "#     img.save('{}/{}.png'.format(save_path, index))\n",
    "  "
   ],
   "metadata": {
    "collapsed": false,
    "pycharm": {
     "name": "#%%\n"
    }
   }
  },
  {
   "cell_type": "markdown",
   "source": [
    "trainB"
   ],
   "metadata": {
    "collapsed": false
   }
  },
  {
   "cell_type": "code",
   "execution_count": null,
   "outputs": [],
   "source": [
    "from functions import *\n",
    "\n",
    "import numpy as np\n",
    "\n",
    "save_path= '/content/drive/My Drive/style_data2/trainB'\n",
    "load_path='/content/drive/My Drive/style_data/RGBA_datasetB'\n",
    "# save_path= '/content/drive/My Drive/cycle/pytorch-CycleGAN-and-pix2pix/datasets/430/testA'\n",
    "# load_path='/content/drive/My Drive/cycle/pytorch-CycleGAN-and-pix2pix/datasets/earthquake429/testA'\n",
    "import matplotlib.image as mp\n",
    "from PIL import Image\n",
    "# 300-315 400-415 500-515 600-615\n",
    "for index in range(188,188+64,1):\n",
    "\n",
    "    # data1=np.expand_dims(data1,axis=0)\n",
    "    img=Image.open('{}/{}.png'.format(load_path, index))\n",
    "    img = img.convert('L')\n",
    "    # print(img.shape)\n",
    "    img.save('{}/{}.png'.format(save_path, index))\n",
    "# for index in range(400,415,1):\n",
    "\n",
    "#     # data1=np.expand_dims(data1,axis=0)\n",
    "#     img=Image.open('{}/{}.png'.format(load_path, index))\n",
    "#     img = img.convert('L')\n",
    "#     # print(img.shape)\n",
    "#     img.save('{}/{}.png'.format(save_path, index))\n",
    "# for index in range(500,515,1):\n",
    "\n",
    "#     # data1=np.expand_dims(data1,axis=0)\n",
    "#     img=Image.open('{}/{}.png'.format(load_path, index))\n",
    "#     img = img.convert('L')\n",
    "#     # print(img.shape)\n",
    "#     img.save('{}/{}.png'.format(save_path, index))\n",
    "# for index in range(600,615,1):\n",
    "\n",
    "#     # data1=np.expand_dims(data1,axis=0)\n",
    "#     img=Image.open('{}/{}.png'.format(load_path, index))\n",
    "#     img = img.convert('L')\n",
    "#     # print(img.shape)\n",
    "#     img.save('{}/{}.png'.format(save_path, index))"
   ],
   "metadata": {
    "collapsed": false,
    "pycharm": {
     "name": "#%%\n"
    }
   }
  },
  {
   "cell_type": "markdown",
   "source": [
    "\n",
    "testA\n"
   ],
   "metadata": {
    "collapsed": false
   }
  },
  {
   "cell_type": "code",
   "execution_count": null,
   "outputs": [],
   "source": [
    "from functions import *\n",
    "\n",
    "import numpy as np\n",
    "data =np.load(path)\n",
    "length=data.shape[0]\n",
    "save_path= '/content/drive/My Drive/style_data2/testA'\n",
    "load_path='/content/drive/My Drive/style_data/RGBA_datasetA'\n",
    "# save_path= '/content/drive/My Drive/cycle/pytorch-CycleGAN-and-pix2pix/datasets/430/testA'\n",
    "# load_path='/content/drive/My Drive/cycle/pytorch-CycleGAN-and-pix2pix/datasets/earthquake429/testA'\n",
    "import matplotlib.image as mp\n",
    "from PIL import Image\n",
    "\n",
    "for index in range(0,350,1):\n",
    "\n",
    "    # data1=np.expand_dims(data1,axis=0)\n",
    "    img=Image.open('{}/{}.png'.format(load_path, index))\n",
    "    img = img.convert('L')\n",
    "    # print(img.shape)\n",
    "    img.save('{}/{}.png'.format(save_path, index))"
   ],
   "metadata": {
    "collapsed": false,
    "pycharm": {
     "name": "#%%\n"
    }
   }
  },
  {
   "cell_type": "markdown",
   "source": [
    "testB"
   ],
   "metadata": {
    "collapsed": false
   }
  },
  {
   "cell_type": "code",
   "execution_count": null,
   "outputs": [],
   "source": [
    "from functions import *\n",
    "\n",
    "import numpy as np\n",
    "data =np.load(path)\n",
    "length=data.shape[0]\n",
    "save_path= '/content/drive/My Drive/style_data2/testB'\n",
    "load_path='/content/drive/My Drive/style_data/RGBA_datasetB'\n",
    "# save_path= '/content/drive/My Drive/cycle/pytorch-CycleGAN-and-pix2pix/datasets/430/testA'\n",
    "# load_path='/content/drive/My Drive/cycle/pytorch-CycleGAN-and-pix2pix/datasets/earthquake429/testA'\n",
    "import matplotlib.image as mp\n",
    "from PIL import Image\n",
    "\n",
    "for index in range(188,199,1):\n",
    "\n",
    "    # data1=np.expand_dims(data1,axis=0)\n",
    "    img=Image.open('{}/{}.png'.format(load_path, index))\n",
    "    img = img.convert('L')\n",
    "    # print(img.shape)\n",
    "    img.save('{}/{}.png'.format(save_path, index))"
   ],
   "metadata": {
    "collapsed": false,
    "pycharm": {
     "name": "#%%\n"
    }
   }
  },
  {
   "cell_type": "markdown",
   "source": [],
   "metadata": {
    "collapsed": false
   }
  },
  {
   "cell_type": "markdown",
   "source": [],
   "metadata": {
    "collapsed": false
   }
  },
  {
   "cell_type": "markdown",
   "source": [],
   "metadata": {
    "collapsed": false
   }
  },
  {
   "cell_type": "markdown",
   "source": [],
   "metadata": {
    "collapsed": false
   }
  },
  {
   "cell_type": "markdown",
   "source": [],
   "metadata": {
    "collapsed": false
   }
  },
  {
   "cell_type": "markdown",
   "source": [],
   "metadata": {
    "collapsed": false
   }
  },
  {
   "cell_type": "markdown",
   "source": [
    "Step1.style transfer style A to style B  (cyclegan)"
   ],
   "metadata": {
    "collapsed": false
   }
  },
  {
   "cell_type": "code",
   "execution_count": null,
   "outputs": [],
   "source": [
    "cd /content/drive/My Drive/cycle/pytorch-CycleGAN-and-pix2pix"
   ],
   "metadata": {
    "collapsed": false,
    "pycharm": {
     "name": "#%%\n"
    }
   }
  },
  {
   "cell_type": "code",
   "execution_count": null,
   "outputs": [],
   "source": [
    "!pi!p install -r requirements.txt"
   ],
   "metadata": {
    "collapsed": false,
    "pycharm": {
     "name": "#%%\n"
    }
   }
  },
  {
   "cell_type": "code",
   "execution_count": null,
   "outputs": [],
   "source": [
    "!python train.py --dataroot  '/content/drive/My Drive/style_data2'  --name 4301_64 --model cycle_gan  --n_epochs 5000 --batch_size 6 --input_nc 1 --output_nc 1 --save_epoch_freq 40 "
   ],
   "metadata": {
    "collapsed": false,
    "pycharm": {
     "name": "#%%\n"
    }
   }
  },
  {
   "cell_type": "code",
   "execution_count": null,
   "outputs": [],
   "source": [
    "!python train.py --dataroot ./datasets/4301 --name 4301_preprocess --model cycle_gan  --n_epochs 10000  --input_nc 1 --output_nc 1 --save_epoch_freq 40  --continue_train --epoch_count 5100"
   ],
   "metadata": {
    "collapsed": false,
    "pycharm": {
     "name": "#%%\n"
    }
   }
  },
  {
   "cell_type": "code",
   "execution_count": null,
   "outputs": [],
   "source": [
    "!python train.py --dataroot '/content/drive/My Drive/style_data' --name 4302_0 --model cycle_gan  --n_epochs 5000 --batch_size 6 --input_nc 1 --output_nc 1 --save_epoch_freq 40 "
   ],
   "metadata": {
    "collapsed": false,
    "pycharm": {
     "name": "#%%\n"
    }
   }
  },
  {
   "cell_type": "markdown",
   "source": [
    "Step2:use test to convert style A to style B return png file  get png path\n"
   ],
   "metadata": {
    "collapsed": false
   }
  },
  {
   "cell_type": "code",
   "execution_count": null,
   "outputs": [],
   "source": [
    "!python  test.py   --dataroot '/content/drive/My Drive/style_data' --name 4302_0 --model cycle_gan   --input_nc 1 --output_nc 1 --preprocess none"
   ],
   "metadata": {
    "collapsed": false,
    "pycharm": {
     "name": "#%%\n"
    }
   }
  },
  {
   "cell_type": "code",
   "execution_count": null,
   "outputs": [],
   "source": [],
   "metadata": {
    "collapsed": false,
    "pycharm": {
     "name": "#%%\n"
    }
   }
  },
  {
   "cell_type": "markdown",
   "source": [
    "Step3.load png files and transfer them to npy file"
   ],
   "metadata": {
    "collapsed": false
   }
  },
  {
   "cell_type": "code",
   "execution_count": null,
   "outputs": [],
   "source": [
    "\n",
    "import matplotlib;\n",
    "import numpy;\n",
    "from functions import *\n",
    "def visu123(save_path,\n",
    "            seismic_path,index=0,dimension=0):\n",
    "    transfer = np.zeros((350,500,1200))\n",
    "    print(transfer.shape)\n",
    "    load_path = '/content/drive/My Drive/cycle/pytorch-CycleGAN-and-pix2pix/results/4301_0/test_latest/images'\n",
    "    from PIL import Image\n",
    "    for index in range(222,271):\n",
    "        a = plt.imread('{}/{}_fake_B.png'.format(load_path, index))\n",
    "        print(a.shape)\n",
    "        picture = Image.open('{}/{}_fake_B.png'.format(load_path, index))\n",
    "        picture = picture.convert('L')\n",
    "        picture2 = np.asarray(picture)\n",
    "        print(picture2.shape)\n",
    "        transfer[index]=picture2\n",
    "    np.save('./transferData430',transfer)\n",
    "\n",
    "\n",
    "visu123(\"saved\",\"data/FYP_data/fault_sub_350IL_500t_1200XL.npy\",51,0)"
   ],
   "metadata": {
    "collapsed": false,
    "pycharm": {
     "name": "#%%\n"
    }
   }
  },
  {
   "cell_type": "markdown",
   "source": [
    "step: 4.load npy file, training "
   ],
   "metadata": {
    "collapsed": false
   }
  },
  {
   "cell_type": "code",
   "execution_count": null,
   "outputs": [],
   "source": [
    "cd /content/drive/My Drive/Earthquake7"
   ],
   "metadata": {
    "collapsed": false,
    "pycharm": {
     "name": "#%%\n"
    }
   }
  },
  {
   "cell_type": "code",
   "execution_count": null,
   "outputs": [],
   "source": [
    "!python train.py --config config1.json --sp '/content/drive/My Drive/Earthquake7/transferData.npy'"
   ],
   "metadata": {
    "collapsed": false,
    "pycharm": {
     "name": "#%%\n"
    }
   }
  },
  {
   "cell_type": "markdown",
   "source": [
    "step 5\n",
    "save_picture, examing the result "
   ],
   "metadata": {
    "collapsed": false
   }
  },
  {
   "cell_type": "code",
   "execution_count": null,
   "outputs": [],
   "source": [
    "pip install cmapy"
   ],
   "metadata": {
    "collapsed": false,
    "pycharm": {
     "name": "#%%\n"
    }
   }
  },
  {
   "cell_type": "code",
   "execution_count": null,
   "outputs": [],
   "source": [
    "!python save_predicted_picture.py --config config1.json --sp '/content/drive/My Drive/Earthquake7/transferData.npy' --resume 'saved/models/DeepLab/0430_104459/checkpoint-epoch5.pth'"
   ],
   "metadata": {
    "collapsed": false,
    "pycharm": {
     "name": "#%%\n"
    }
   }
  },
  {
   "cell_type": "markdown",
   "source": [
    "step 6\n",
    "\n",
    "apply the model in the dataset B, save_picture, get the result, compare.\n"
   ],
   "metadata": {
    "collapsed": false
   }
  },
  {
   "cell_type": "code",
   "execution_count": null,
   "outputs": [],
   "source": [
    "!python save_predicted_picture.py --config config1.json --sp '/content/drive/My Drive/datasets2/subGSBxl_t_il.npy' --resume 'saved/models/DeepLab/0430_104459/checkpoint-epoch5.pth'"
   ],
   "metadata": {
    "collapsed": false,
    "pycharm": {
     "name": "#%%\n"
    }
   }
  },
  {
   "cell_type": "code",
   "execution_count": null,
   "outputs": [],
   "source": [
    "!python save_predicted_picture.py --config config0.json --sp '/content/drive/My Drive/datasets2/subGSBxl_t_il.npy' --resume  'saved/models/Unet/0501_094409/checkpoint-epoch9.pth'"
   ],
   "metadata": {
    "collapsed": false,
    "pycharm": {
     "name": "#%%\n"
    }
   }
  },
  {
   "cell_type": "markdown",
   "source": [],
   "metadata": {
    "collapsed": false
   }
  },
  {
   "cell_type": "markdown",
   "source": [],
   "metadata": {
    "collapsed": false
   }
  },
  {
   "cell_type": "markdown",
   "source": [
    "Step7_option: we could apply the original model to the datasetB and compare the result with that of the style-transfer model"
   ],
   "metadata": {
    "collapsed": false
   }
  },
  {
   "cell_type": "code",
   "execution_count": null,
   "outputs": [],
   "source": [
    "!python save_predicted_picture.py --config config1.json --sp '/content/drive/My Drive/datasets2/subGSBxl_t_il.npy' --resume 'saved/models/DeepLab/0430_104459/checkpoint-epoch5.pth'"
   ],
   "metadata": {
    "collapsed": false,
    "pycharm": {
     "name": "#%%\n"
    }
   }
  },
  {
   "cell_type": "markdown",
   "source": [],
   "metadata": {
    "collapsed": false
   }
  },
  {
   "cell_type": "code",
   "execution_count": null,
   "outputs": [],
   "source": [
    "pip install cmapy\n"
   ],
   "metadata": {
    "collapsed": false,
    "pycharm": {
     "name": "#%%\n"
    }
   }
  },
  {
   "cell_type": "code",
   "execution_count": null,
   "outputs": [],
   "source": [
    "import numpy as np\n",
    "a=np.load('/content/drive/My Drive/Earthquake7/transferData.npy')\n",
    "print(a.shape)\n",
    "import matplotlib.pyplot as plt\n",
    "%matplotlib inline\n",
    "# plt.imread(a[223])\n",
    "plt.imshow(a[223])\n"
   ],
   "metadata": {
    "collapsed": false,
    "pycharm": {
     "name": "#%%\n"
    }
   }
  },
  {
   "cell_type": "markdown",
   "source": [],
   "metadata": {
    "collapsed": false
   }
  },
  {
   "cell_type": "code",
   "execution_count": null,
   "outputs": [],
   "source": [
    "# !python save_predicted_picture.py --config config1.json --sp '/content/drive/My Drive/Earthquake7/transferData.npy'\n"
   ],
   "metadata": {
    "collapsed": false,
    "pycharm": {
     "name": "#%%\n"
    }
   }
  },
  {
   "cell_type": "markdown",
   "source": [],
   "metadata": {
    "collapsed": false
   }
  }
 ]
}